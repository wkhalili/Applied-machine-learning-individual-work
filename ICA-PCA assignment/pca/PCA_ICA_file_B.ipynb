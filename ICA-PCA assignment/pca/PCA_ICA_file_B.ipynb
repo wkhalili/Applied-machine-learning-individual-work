{
 "cells": [
  {
   "cell_type": "code",
   "execution_count": 41,
   "metadata": {},
   "outputs": [
    {
     "name": "stdout",
     "output_type": "stream",
     "text": [
      "next Pictures are proccesed with ICA \n"
     ]
    },
    {
     "ename": "ValueError",
     "evalue": "cannot reshape array of size 3000 into shape (120,12)",
     "output_type": "error",
     "traceback": [
      "\u001b[0;31m---------------------------------------------------------------------------\u001b[0m",
      "\u001b[0;31mValueError\u001b[0m                                Traceback (most recent call last)",
      "\u001b[0;32m<ipython-input-41-57a2dca29ffe>\u001b[0m in \u001b[0;36m<module>\u001b[0;34m\u001b[0m\n\u001b[1;32m     52\u001b[0m \u001b[0mabs_value_data\u001b[0m \u001b[0;34m=\u001b[0m \u001b[0mnp\u001b[0m\u001b[0;34m.\u001b[0m\u001b[0mabsolute\u001b[0m\u001b[0;34m(\u001b[0m\u001b[0mS_ica_\u001b[0m\u001b[0;34m)\u001b[0m\u001b[0;34m\u001b[0m\u001b[0;34m\u001b[0m\u001b[0m\n\u001b[1;32m     53\u001b[0m \u001b[0;34m\u001b[0m\u001b[0m\n\u001b[0;32m---> 54\u001b[0;31m \u001b[0mfinal_data\u001b[0m \u001b[0;34m=\u001b[0m \u001b[0;34m[\u001b[0m\u001b[0mabs_value_data\u001b[0m\u001b[0;34m[\u001b[0m\u001b[0;34m:\u001b[0m\u001b[0;34m,\u001b[0m\u001b[0my\u001b[0m\u001b[0;34m]\u001b[0m\u001b[0;34m.\u001b[0m\u001b[0mreshape\u001b[0m\u001b[0;34m(\u001b[0m\u001b[0;36m120\u001b[0m\u001b[0;34m,\u001b[0m\u001b[0;36m12\u001b[0m\u001b[0;34m)\u001b[0m \u001b[0;32mfor\u001b[0m \u001b[0my\u001b[0m \u001b[0;32min\u001b[0m \u001b[0mrange\u001b[0m\u001b[0;34m(\u001b[0m\u001b[0;36m10\u001b[0m\u001b[0;34m)\u001b[0m\u001b[0;34m]\u001b[0m\u001b[0;34m\u001b[0m\u001b[0;34m\u001b[0m\u001b[0m\n\u001b[0m\u001b[1;32m     55\u001b[0m \u001b[0;32mfor\u001b[0m \u001b[0my\u001b[0m \u001b[0;32min\u001b[0m \u001b[0mrange\u001b[0m\u001b[0;34m(\u001b[0m\u001b[0;36m10\u001b[0m\u001b[0;34m)\u001b[0m\u001b[0;34m:\u001b[0m\u001b[0;34m\u001b[0m\u001b[0;34m\u001b[0m\u001b[0m\n\u001b[1;32m     56\u001b[0m     \u001b[0mplt\u001b[0m\u001b[0;34m.\u001b[0m\u001b[0mmatshow\u001b[0m\u001b[0;34m(\u001b[0m\u001b[0mfinal_data\u001b[0m\u001b[0;34m[\u001b[0m\u001b[0my\u001b[0m\u001b[0;34m]\u001b[0m\u001b[0;34m)\u001b[0m\u001b[0;34m\u001b[0m\u001b[0;34m\u001b[0m\u001b[0m\n",
      "\u001b[0;32m<ipython-input-41-57a2dca29ffe>\u001b[0m in \u001b[0;36m<listcomp>\u001b[0;34m(.0)\u001b[0m\n\u001b[1;32m     52\u001b[0m \u001b[0mabs_value_data\u001b[0m \u001b[0;34m=\u001b[0m \u001b[0mnp\u001b[0m\u001b[0;34m.\u001b[0m\u001b[0mabsolute\u001b[0m\u001b[0;34m(\u001b[0m\u001b[0mS_ica_\u001b[0m\u001b[0;34m)\u001b[0m\u001b[0;34m\u001b[0m\u001b[0;34m\u001b[0m\u001b[0m\n\u001b[1;32m     53\u001b[0m \u001b[0;34m\u001b[0m\u001b[0m\n\u001b[0;32m---> 54\u001b[0;31m \u001b[0mfinal_data\u001b[0m \u001b[0;34m=\u001b[0m \u001b[0;34m[\u001b[0m\u001b[0mabs_value_data\u001b[0m\u001b[0;34m[\u001b[0m\u001b[0;34m:\u001b[0m\u001b[0;34m,\u001b[0m\u001b[0my\u001b[0m\u001b[0;34m]\u001b[0m\u001b[0;34m.\u001b[0m\u001b[0mreshape\u001b[0m\u001b[0;34m(\u001b[0m\u001b[0;36m120\u001b[0m\u001b[0;34m,\u001b[0m\u001b[0;36m12\u001b[0m\u001b[0;34m)\u001b[0m \u001b[0;32mfor\u001b[0m \u001b[0my\u001b[0m \u001b[0;32min\u001b[0m \u001b[0mrange\u001b[0m\u001b[0;34m(\u001b[0m\u001b[0;36m10\u001b[0m\u001b[0;34m)\u001b[0m\u001b[0;34m]\u001b[0m\u001b[0;34m\u001b[0m\u001b[0;34m\u001b[0m\u001b[0m\n\u001b[0m\u001b[1;32m     55\u001b[0m \u001b[0;32mfor\u001b[0m \u001b[0my\u001b[0m \u001b[0;32min\u001b[0m \u001b[0mrange\u001b[0m\u001b[0;34m(\u001b[0m\u001b[0;36m10\u001b[0m\u001b[0;34m)\u001b[0m\u001b[0;34m:\u001b[0m\u001b[0;34m\u001b[0m\u001b[0;34m\u001b[0m\u001b[0m\n\u001b[1;32m     56\u001b[0m     \u001b[0mplt\u001b[0m\u001b[0;34m.\u001b[0m\u001b[0mmatshow\u001b[0m\u001b[0;34m(\u001b[0m\u001b[0mfinal_data\u001b[0m\u001b[0;34m[\u001b[0m\u001b[0my\u001b[0m\u001b[0;34m]\u001b[0m\u001b[0;34m)\u001b[0m\u001b[0;34m\u001b[0m\u001b[0;34m\u001b[0m\u001b[0m\n",
      "\u001b[0;31mValueError\u001b[0m: cannot reshape array of size 3000 into shape (120,12)"
     ]
    }
   ],
   "source": [
    "import numpy as np\n",
    "import matplotlib.pyplot as plt\n",
    "from matplotlib import cm\n",
    "from sklearn.decomposition import FastICA, PCA\n",
    "from sklearn import decomposition\n",
    "\n",
    "# Enable plots inside the Jupyter NotebookLet the\n",
    "%matplotlib inline\n",
    "\n",
    "image_height=12\n",
    "noofcomponents=10\n",
    "image_width=image_height*noofcomponents\n",
    "image_shape=(image_height,image_width)\n",
    "noofpixels=image_height*image_width\n",
    "\n",
    "datafilename=\"/home/w_khalili/ica/B_challenge_for_Wala'a Khalili.hdf5\"\n",
    "\n",
    "\n",
    "\n",
    "from tables import *\n",
    "\n",
    "# Create Sample/Row types\n",
    "class WordImage(IsDescription):\n",
    "    idnumber  = Int64Col()      # Signed 64-bit integer\n",
    "    image = Float64Col(image_shape)    # double (double-precision)\n",
    "\n",
    "# Create ICA dataset for individual student\n",
    "ImagesFile = open_file(datafilename, mode = \"r\")\n",
    "ImagesTable=ImagesFile.root.Images.Images\n",
    "\n",
    "#print(ImagesTable[1])\n",
    "\n",
    " # my code\n",
    "\n",
    "    \n",
    "new_data = list()\n",
    "for x in ImagesTable.iterrows(): # (3000,)\n",
    "    data = x['image'].reshape(1440,1)\n",
    "    new_data.append(data)\n",
    "\n",
    "# ICA Processing \n",
    "print(\"next Pictures are proccesed with ICA \")\n",
    "\n",
    "stack_new_data = np.hstack(new_data)\n",
    "ica = FastICA(n_components=10)\n",
    "S_ica_ = ica.fit_transform(stack_new_data)  # Reconstruct signals\n",
    "A_ica_ = ica.mixing_  # Get estimated mixing matrix\n",
    "abs_value_data = np.absolute(S_ica_)\n",
    "\n",
    "final_data = [abs_value_data[:,y].reshape(12,120) for y in range(10)]\n",
    "for y in range(10):\n",
    "    plt.matshow(final_data[y])   \n",
    "    plt.show()    \n",
    "    \n",
    "print(\"next Pictures are proccesed with PCA \")\n",
    "\n",
    "#PCA Data Processing \n",
    "\n",
    "pca = PCA(n_components=10)\n",
    "PCA_data = pca.fit_transform(stack_new_data)\n",
    "abs_value_data = np.absolute(PCA_data)\n",
    "\n",
    "final_data = [abs_value_data[:,y].reshape(12,120) for y in range(10)]\n",
    "for y in range(10):\n",
    "    plt.matshow(final_data[y])   \n",
    "    plt.show()\n",
    "    \n",
    "    \n",
    "\n",
    " # Data reading and plotting the result. This is where you should put your own code.\n",
    "\n",
    "\n",
    "#dataset=np.zeros((ImagesTable.nrows,noofpixels))\n",
    "#for x in ImagesTable.iterrows(0,10): # Start and stop are specified here, you need to process entire dataset!\n",
    "#    plt.matshow(x['image'], interpolation='nearest', cmap=cm.jet)\n",
    "#    plt.show()\n",
    "        \n",
    "\n",
    "#ImagesTable.close()\n"
   ]
  },
  {
   "cell_type": "code",
   "execution_count": null,
   "metadata": {},
   "outputs": [],
   "source": []
  },
  {
   "cell_type": "code",
   "execution_count": null,
   "metadata": {},
   "outputs": [],
   "source": []
  }
 ],
 "metadata": {
  "kernelspec": {
   "display_name": "Python 3",
   "language": "python",
   "name": "python3"
  },
  "language_info": {
   "codemirror_mode": {
    "name": "ipython",
    "version": 3
   },
   "file_extension": ".py",
   "mimetype": "text/x-python",
   "name": "python",
   "nbconvert_exporter": "python",
   "pygments_lexer": "ipython3",
   "version": "3.7.3"
  }
 },
 "nbformat": 4,
 "nbformat_minor": 2
}
